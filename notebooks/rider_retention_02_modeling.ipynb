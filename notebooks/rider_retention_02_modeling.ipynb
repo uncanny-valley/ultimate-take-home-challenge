{
 "cells": [
  {
   "cell_type": "markdown",
   "metadata": {},
   "source": [
    "# Rider Retention: Modeling\n",
    "\n",
    "In this exercise, we attempt to build a model that can determine whether or not a user will be active in their 6th month into the system.\n",
    "\n",
    "We are only given 6 months of data to work. Very few users actually have an account age greater than or equal to 6 months, so we will be using whether the user has ridden in the last 30 days as a proxy for 6 month retention."
   ]
  },
  {
   "cell_type": "code",
   "execution_count": 1,
   "metadata": {},
   "outputs": [],
   "source": [
    "%load_ext autoreload\n",
    "%autoreload 2"
   ]
  },
  {
   "cell_type": "code",
   "execution_count": 2,
   "metadata": {},
   "outputs": [],
   "source": [
    "import numpy as np\n",
    "from imblearn.over_sampling import RandomOverSampler\n",
    "\n",
    "import matplotlib.pyplot as plt\n",
    "import pandas as pd\n",
    "import seaborn as sns; sns.set()\n",
    "import sys\n",
    "\n",
    "from optuna import load_study\n",
    "\n",
    "from sklearn.ensemble import RandomForestClassifier\n",
    "from sklearn.linear_model import LogisticRegression\n",
    "from sklearn.metrics import classification_report, plot_confusion_matrix, roc_auc_score\n",
    "from sklearn.model_selection import StratifiedKFold\n",
    "from sklearn.naive_bayes import GaussianNB\n",
    "from sklearn.neighbors import KNeighborsClassifier\n",
    "\n",
    "from treeinterpreter import treeinterpreter as ti\n",
    "import waterfall_chart\n",
    "\n",
    "sys.path.append('../src/')\n",
    "\n",
    "from features import build_features\n",
    "\n",
    "RANDOM_SEED = 0"
   ]
  },
  {
   "cell_type": "code",
   "execution_count": 3,
   "metadata": {},
   "outputs": [],
   "source": [
    "def plot_feature_importance(feature_names, importance, std=None):\n",
    "    sorted_indices = np.argsort(importance)\n",
    "    num_features = len(feature_names)\n",
    "    \n",
    "    if std is not None:\n",
    "        std = std[sorted_indices]\n",
    "    \n",
    "    fig, ax = plt.subplots(figsize=(7, 7))\n",
    "    ax.barh(range(num_features), importance[sorted_indices], xerr=std)\n",
    "    ax.set_title('Feature Importance')\n",
    "    plt.yticks(range(num_features), [feature_names[i] for i in sorted_indices]);\n",
    "    ax.set_xlabel('Weight')\n",
    "    ax.set_ylabel('Feature')"
   ]
  },
  {
   "cell_type": "markdown",
   "metadata": {},
   "source": [
    "# 1. Generating Features"
   ]
  },
  {
   "cell_type": "code",
   "execution_count": 4,
   "metadata": {},
   "outputs": [
    {
     "name": "stdout",
     "output_type": "stream",
     "text": [
      "[Pipeline] .... (step 1 of 3) Processing columnselector, total=   0.0s\n",
      "[Pipeline] ... (step 2 of 3) Processing simpleimputerdf, total=   0.1s\n",
      "[Pipeline] ..... (step 3 of 3) Processing onehotencoder, total=   0.0s\n",
      "[Pipeline] .... (step 1 of 4) Processing columnselector, total=   0.0s\n",
      "[Pipeline] ... (step 2 of 4) Processing simpleimputerdf, total=   0.0s\n",
      "[Pipeline]  (step 3 of 4) Processing functiontransformerdf, total=   0.0s\n",
      "[Pipeline] .. (step 4 of 4) Processing standardscalerdf, total=   0.0s\n",
      "[CollinearityThreshold] Correlated features: [('avg_surge', 'surge_pct')]\n",
      "<class 'pandas.core.frame.DataFrame'>\n",
      "Int64Index: 40000 entries, 6137 to 44554\n",
      "Data columns (total 11 columns):\n",
      " #   Column                    Non-Null Count  Dtype  \n",
      "---  ------                    --------------  -----  \n",
      " 0   city_King's Landing       40000 non-null  uint8  \n",
      " 1   city_Winterfell           40000 non-null  uint8  \n",
      " 2   ultimate_black_user_True  40000 non-null  uint8  \n",
      " 3   phone_iPhone              40000 non-null  uint8  \n",
      " 4   trips_in_first_30_days    40000 non-null  float64\n",
      " 5   avg_rating_of_driver      40000 non-null  float64\n",
      " 6   surge_pct                 40000 non-null  float64\n",
      " 7   weekday_pct               40000 non-null  float64\n",
      " 8   avg_dist                  40000 non-null  float64\n",
      " 9   avg_rating_by_driver      40000 non-null  float64\n",
      " 10  signup_day                40000 non-null  float64\n",
      "dtypes: float64(7), uint8(4)\n",
      "memory usage: 2.6 MB\n"
     ]
    },
    {
     "data": {
      "text/plain": [
       "((40000, 11), (10000, 11), (40000,), (10000,))"
      ]
     },
     "execution_count": 4,
     "metadata": {},
     "output_type": "execute_result"
    }
   ],
   "source": [
    "X_train, X_test, y_train, y_test = build_features('../data/ultimate_data_challenge.json')\n",
    "X_train.shape, X_test.shape, y_train.shape, y_test.shape"
   ]
  },
  {
   "cell_type": "markdown",
   "metadata": {},
   "source": [
    "# 2. Resampling"
   ]
  },
  {
   "cell_type": "code",
   "execution_count": 5,
   "metadata": {},
   "outputs": [
    {
     "data": {
      "text/plain": [
       "0.0    0.623925\n",
       "1.0    0.376075\n",
       "Name: is_active, dtype: float64"
      ]
     },
     "execution_count": 5,
     "metadata": {},
     "output_type": "execute_result"
    }
   ],
   "source": [
    "y_train.value_counts(normalize=True)"
   ]
  },
  {
   "cell_type": "code",
   "execution_count": 6,
   "metadata": {},
   "outputs": [
    {
     "data": {
      "text/plain": [
       "0.0    0.5\n",
       "1.0    0.5\n",
       "Name: is_active, dtype: float64"
      ]
     },
     "execution_count": 6,
     "metadata": {},
     "output_type": "execute_result"
    }
   ],
   "source": [
    "resampler = RandomOverSampler(random_state=RANDOM_SEED)\n",
    "X_train, y_train = resampler.fit_resample(X_train, y_train)\n",
    "y_train.value_counts(normalize=True)"
   ]
  },
  {
   "cell_type": "markdown",
   "metadata": {},
   "source": [
    "# 3. Model Selection"
   ]
  },
  {
   "cell_type": "code",
   "execution_count": 7,
   "metadata": {},
   "outputs": [],
   "source": [
    "skf = StratifiedKFold(n_splits=5, shuffle=True, random_state=RANDOM_SEED)"
   ]
  },
  {
   "cell_type": "code",
   "execution_count": 8,
   "metadata": {},
   "outputs": [],
   "source": [
    "def train_over_folds(estimator, X, y, skf):\n",
    "    reports = []\n",
    "    for train_indices, validation_indices in skf.split(X, y):\n",
    "        xt, yt = X.iloc[train_indices], y.iloc[train_indices]\n",
    "        xv, yv = X.iloc[validation_indices], y.iloc[validation_indices]\n",
    "        estimator.fit(xt, yt)\n",
    "        y_pred = estimator.predict(xv)\n",
    "        roc_auc = roc_auc_score(y_pred, yv)\n",
    "        report = pd.DataFrame(classification_report(yv, y_pred, output_dict=True))\n",
    "        report['roc auc'] = roc_auc\n",
    "        \n",
    "        if hasattr(estimator, 'oob_score_'):\n",
    "            report['oob score'] = estimator.oob_score_\n",
    "        \n",
    "        reports.append(report)\n",
    "        \n",
    "        \n",
    "    return pd.concat(reports, axis=0).groupby(level=0).mean()"
   ]
  },
  {
   "cell_type": "code",
   "execution_count": 9,
   "metadata": {},
   "outputs": [],
   "source": [
    "logreg = LogisticRegression(random_state=RANDOM_SEED)"
   ]
  },
  {
   "cell_type": "code",
   "execution_count": 10,
   "metadata": {},
   "outputs": [
    {
     "data": {
      "text/html": [
       "<div>\n",
       "<style scoped>\n",
       "    .dataframe tbody tr th:only-of-type {\n",
       "        vertical-align: middle;\n",
       "    }\n",
       "\n",
       "    .dataframe tbody tr th {\n",
       "        vertical-align: top;\n",
       "    }\n",
       "\n",
       "    .dataframe thead th {\n",
       "        text-align: right;\n",
       "    }\n",
       "</style>\n",
       "<table border=\"1\" class=\"dataframe\">\n",
       "  <thead>\n",
       "    <tr style=\"text-align: right;\">\n",
       "      <th></th>\n",
       "      <th>0.0</th>\n",
       "      <th>1.0</th>\n",
       "      <th>accuracy</th>\n",
       "      <th>macro avg</th>\n",
       "      <th>weighted avg</th>\n",
       "      <th>roc auc</th>\n",
       "    </tr>\n",
       "  </thead>\n",
       "  <tbody>\n",
       "    <tr>\n",
       "      <th>f1-score</th>\n",
       "      <td>0.711959</td>\n",
       "      <td>0.703624</td>\n",
       "      <td>0.707858</td>\n",
       "      <td>0.707791</td>\n",
       "      <td>0.707792</td>\n",
       "      <td>0.708047</td>\n",
       "    </tr>\n",
       "    <tr>\n",
       "      <th>precision</th>\n",
       "      <td>0.702070</td>\n",
       "      <td>0.714025</td>\n",
       "      <td>0.707858</td>\n",
       "      <td>0.708047</td>\n",
       "      <td>0.708047</td>\n",
       "      <td>0.708047</td>\n",
       "    </tr>\n",
       "    <tr>\n",
       "      <th>recall</th>\n",
       "      <td>0.722162</td>\n",
       "      <td>0.693553</td>\n",
       "      <td>0.707858</td>\n",
       "      <td>0.707857</td>\n",
       "      <td>0.707858</td>\n",
       "      <td>0.708047</td>\n",
       "    </tr>\n",
       "    <tr>\n",
       "      <th>support</th>\n",
       "      <td>4991.400000</td>\n",
       "      <td>4991.400000</td>\n",
       "      <td>0.707858</td>\n",
       "      <td>9982.800000</td>\n",
       "      <td>9982.800000</td>\n",
       "      <td>0.708047</td>\n",
       "    </tr>\n",
       "  </tbody>\n",
       "</table>\n",
       "</div>"
      ],
      "text/plain": [
       "                   0.0          1.0  accuracy    macro avg  weighted avg  \\\n",
       "f1-score      0.711959     0.703624  0.707858     0.707791      0.707792   \n",
       "precision     0.702070     0.714025  0.707858     0.708047      0.708047   \n",
       "recall        0.722162     0.693553  0.707858     0.707857      0.707858   \n",
       "support    4991.400000  4991.400000  0.707858  9982.800000   9982.800000   \n",
       "\n",
       "            roc auc  \n",
       "f1-score   0.708047  \n",
       "precision  0.708047  \n",
       "recall     0.708047  \n",
       "support    0.708047  "
      ]
     },
     "execution_count": 10,
     "metadata": {},
     "output_type": "execute_result"
    }
   ],
   "source": [
    "train_over_folds(logreg, X_train, y_train, skf)"
   ]
  },
  {
   "cell_type": "code",
   "execution_count": 11,
   "metadata": {},
   "outputs": [],
   "source": [
    "bayes = GaussianNB()"
   ]
  },
  {
   "cell_type": "code",
   "execution_count": 12,
   "metadata": {},
   "outputs": [
    {
     "data": {
      "text/html": [
       "<div>\n",
       "<style scoped>\n",
       "    .dataframe tbody tr th:only-of-type {\n",
       "        vertical-align: middle;\n",
       "    }\n",
       "\n",
       "    .dataframe tbody tr th {\n",
       "        vertical-align: top;\n",
       "    }\n",
       "\n",
       "    .dataframe thead th {\n",
       "        text-align: right;\n",
       "    }\n",
       "</style>\n",
       "<table border=\"1\" class=\"dataframe\">\n",
       "  <thead>\n",
       "    <tr style=\"text-align: right;\">\n",
       "      <th></th>\n",
       "      <th>0.0</th>\n",
       "      <th>1.0</th>\n",
       "      <th>accuracy</th>\n",
       "      <th>macro avg</th>\n",
       "      <th>weighted avg</th>\n",
       "      <th>roc auc</th>\n",
       "    </tr>\n",
       "  </thead>\n",
       "  <tbody>\n",
       "    <tr>\n",
       "      <th>f1-score</th>\n",
       "      <td>0.680397</td>\n",
       "      <td>0.721288</td>\n",
       "      <td>0.702248</td>\n",
       "      <td>0.700843</td>\n",
       "      <td>0.700842</td>\n",
       "      <td>0.706116</td>\n",
       "    </tr>\n",
       "    <tr>\n",
       "      <th>precision</th>\n",
       "      <td>0.734271</td>\n",
       "      <td>0.677961</td>\n",
       "      <td>0.702248</td>\n",
       "      <td>0.706116</td>\n",
       "      <td>0.706116</td>\n",
       "      <td>0.706116</td>\n",
       "    </tr>\n",
       "    <tr>\n",
       "      <th>recall</th>\n",
       "      <td>0.633931</td>\n",
       "      <td>0.770565</td>\n",
       "      <td>0.702248</td>\n",
       "      <td>0.702248</td>\n",
       "      <td>0.702248</td>\n",
       "      <td>0.706116</td>\n",
       "    </tr>\n",
       "    <tr>\n",
       "      <th>support</th>\n",
       "      <td>4991.400000</td>\n",
       "      <td>4991.400000</td>\n",
       "      <td>0.702248</td>\n",
       "      <td>9982.800000</td>\n",
       "      <td>9982.800000</td>\n",
       "      <td>0.706116</td>\n",
       "    </tr>\n",
       "  </tbody>\n",
       "</table>\n",
       "</div>"
      ],
      "text/plain": [
       "                   0.0          1.0  accuracy    macro avg  weighted avg  \\\n",
       "f1-score      0.680397     0.721288  0.702248     0.700843      0.700842   \n",
       "precision     0.734271     0.677961  0.702248     0.706116      0.706116   \n",
       "recall        0.633931     0.770565  0.702248     0.702248      0.702248   \n",
       "support    4991.400000  4991.400000  0.702248  9982.800000   9982.800000   \n",
       "\n",
       "            roc auc  \n",
       "f1-score   0.706116  \n",
       "precision  0.706116  \n",
       "recall     0.706116  \n",
       "support    0.706116  "
      ]
     },
     "execution_count": 12,
     "metadata": {},
     "output_type": "execute_result"
    }
   ],
   "source": [
    "train_over_folds(bayes, X_train, y_train, skf)"
   ]
  },
  {
   "cell_type": "code",
   "execution_count": 13,
   "metadata": {},
   "outputs": [],
   "source": [
    "knn = KNeighborsClassifier()"
   ]
  },
  {
   "cell_type": "code",
   "execution_count": 14,
   "metadata": {},
   "outputs": [
    {
     "data": {
      "text/html": [
       "<div>\n",
       "<style scoped>\n",
       "    .dataframe tbody tr th:only-of-type {\n",
       "        vertical-align: middle;\n",
       "    }\n",
       "\n",
       "    .dataframe tbody tr th {\n",
       "        vertical-align: top;\n",
       "    }\n",
       "\n",
       "    .dataframe thead th {\n",
       "        text-align: right;\n",
       "    }\n",
       "</style>\n",
       "<table border=\"1\" class=\"dataframe\">\n",
       "  <thead>\n",
       "    <tr style=\"text-align: right;\">\n",
       "      <th></th>\n",
       "      <th>0.0</th>\n",
       "      <th>1.0</th>\n",
       "      <th>accuracy</th>\n",
       "      <th>macro avg</th>\n",
       "      <th>weighted avg</th>\n",
       "      <th>roc auc</th>\n",
       "    </tr>\n",
       "  </thead>\n",
       "  <tbody>\n",
       "    <tr>\n",
       "      <th>f1-score</th>\n",
       "      <td>0.740860</td>\n",
       "      <td>0.754001</td>\n",
       "      <td>0.747606</td>\n",
       "      <td>0.747430</td>\n",
       "      <td>0.747430</td>\n",
       "      <td>0.748298</td>\n",
       "    </tr>\n",
       "    <tr>\n",
       "      <th>precision</th>\n",
       "      <td>0.761250</td>\n",
       "      <td>0.735347</td>\n",
       "      <td>0.747606</td>\n",
       "      <td>0.748298</td>\n",
       "      <td>0.748298</td>\n",
       "      <td>0.748298</td>\n",
       "    </tr>\n",
       "    <tr>\n",
       "      <th>recall</th>\n",
       "      <td>0.721561</td>\n",
       "      <td>0.773651</td>\n",
       "      <td>0.747606</td>\n",
       "      <td>0.747606</td>\n",
       "      <td>0.747606</td>\n",
       "      <td>0.748298</td>\n",
       "    </tr>\n",
       "    <tr>\n",
       "      <th>support</th>\n",
       "      <td>4991.400000</td>\n",
       "      <td>4991.400000</td>\n",
       "      <td>0.747606</td>\n",
       "      <td>9982.800000</td>\n",
       "      <td>9982.800000</td>\n",
       "      <td>0.748298</td>\n",
       "    </tr>\n",
       "  </tbody>\n",
       "</table>\n",
       "</div>"
      ],
      "text/plain": [
       "                   0.0          1.0  accuracy    macro avg  weighted avg  \\\n",
       "f1-score      0.740860     0.754001  0.747606     0.747430      0.747430   \n",
       "precision     0.761250     0.735347  0.747606     0.748298      0.748298   \n",
       "recall        0.721561     0.773651  0.747606     0.747606      0.747606   \n",
       "support    4991.400000  4991.400000  0.747606  9982.800000   9982.800000   \n",
       "\n",
       "            roc auc  \n",
       "f1-score   0.748298  \n",
       "precision  0.748298  \n",
       "recall     0.748298  \n",
       "support    0.748298  "
      ]
     },
     "execution_count": 14,
     "metadata": {},
     "output_type": "execute_result"
    }
   ],
   "source": [
    "train_over_folds(knn, X_train, y_train, skf)"
   ]
  },
  {
   "cell_type": "code",
   "execution_count": 15,
   "metadata": {},
   "outputs": [],
   "source": [
    "forest = RandomForestClassifier(random_state=RANDOM_SEED)"
   ]
  },
  {
   "cell_type": "code",
   "execution_count": 16,
   "metadata": {},
   "outputs": [
    {
     "data": {
      "text/html": [
       "<div>\n",
       "<style scoped>\n",
       "    .dataframe tbody tr th:only-of-type {\n",
       "        vertical-align: middle;\n",
       "    }\n",
       "\n",
       "    .dataframe tbody tr th {\n",
       "        vertical-align: top;\n",
       "    }\n",
       "\n",
       "    .dataframe thead th {\n",
       "        text-align: right;\n",
       "    }\n",
       "</style>\n",
       "<table border=\"1\" class=\"dataframe\">\n",
       "  <thead>\n",
       "    <tr style=\"text-align: right;\">\n",
       "      <th></th>\n",
       "      <th>0.0</th>\n",
       "      <th>1.0</th>\n",
       "      <th>accuracy</th>\n",
       "      <th>macro avg</th>\n",
       "      <th>weighted avg</th>\n",
       "      <th>roc auc</th>\n",
       "    </tr>\n",
       "  </thead>\n",
       "  <tbody>\n",
       "    <tr>\n",
       "      <th>f1-score</th>\n",
       "      <td>0.837095</td>\n",
       "      <td>0.848621</td>\n",
       "      <td>0.84307</td>\n",
       "      <td>0.842858</td>\n",
       "      <td>0.842858</td>\n",
       "      <td>0.844933</td>\n",
       "    </tr>\n",
       "    <tr>\n",
       "      <th>precision</th>\n",
       "      <td>0.870243</td>\n",
       "      <td>0.819623</td>\n",
       "      <td>0.84307</td>\n",
       "      <td>0.844933</td>\n",
       "      <td>0.844933</td>\n",
       "      <td>0.844933</td>\n",
       "    </tr>\n",
       "    <tr>\n",
       "      <th>recall</th>\n",
       "      <td>0.806387</td>\n",
       "      <td>0.879753</td>\n",
       "      <td>0.84307</td>\n",
       "      <td>0.843070</td>\n",
       "      <td>0.843070</td>\n",
       "      <td>0.844933</td>\n",
       "    </tr>\n",
       "    <tr>\n",
       "      <th>support</th>\n",
       "      <td>4991.400000</td>\n",
       "      <td>4991.400000</td>\n",
       "      <td>0.84307</td>\n",
       "      <td>9982.800000</td>\n",
       "      <td>9982.800000</td>\n",
       "      <td>0.844933</td>\n",
       "    </tr>\n",
       "  </tbody>\n",
       "</table>\n",
       "</div>"
      ],
      "text/plain": [
       "                   0.0          1.0  accuracy    macro avg  weighted avg  \\\n",
       "f1-score      0.837095     0.848621   0.84307     0.842858      0.842858   \n",
       "precision     0.870243     0.819623   0.84307     0.844933      0.844933   \n",
       "recall        0.806387     0.879753   0.84307     0.843070      0.843070   \n",
       "support    4991.400000  4991.400000   0.84307  9982.800000   9982.800000   \n",
       "\n",
       "            roc auc  \n",
       "f1-score   0.844933  \n",
       "precision  0.844933  \n",
       "recall     0.844933  \n",
       "support    0.844933  "
      ]
     },
     "execution_count": 16,
     "metadata": {},
     "output_type": "execute_result"
    }
   ],
   "source": [
    "report = train_over_folds(forest, X_train, y_train, skf)\n",
    "report"
   ]
  },
  {
   "cell_type": "markdown",
   "metadata": {},
   "source": [
    "# 4. Hyperparameter Tuning\n",
    "We conduct two experiments for the random forest classifier, where we are maximizing the f1-score and ROC AUC metric."
   ]
  },
  {
   "cell_type": "code",
   "execution_count": 17,
   "metadata": {},
   "outputs": [
    {
     "data": {
      "text/plain": [
       "{'criterion': 'entropy',\n",
       " 'max_depth': None,\n",
       " 'max_features': None,\n",
       " 'min_samples_leaf': 2,\n",
       " 'min_samples_split': 2,\n",
       " 'n_estimators': 844}"
      ]
     },
     "execution_count": 17,
     "metadata": {},
     "output_type": "execute_result"
    }
   ],
   "source": [
    "f1_study = load_study(study_name='random_forest_f1', storage='sqlite:///../studies/random_forest_f1.db')\n",
    "f1_study.best_params"
   ]
  },
  {
   "cell_type": "code",
   "execution_count": 18,
   "metadata": {},
   "outputs": [
    {
     "data": {
      "text/plain": [
       "{'criterion': 'entropy',\n",
       " 'max_depth': None,\n",
       " 'max_features': None,\n",
       " 'min_samples_leaf': 2,\n",
       " 'min_samples_split': 2,\n",
       " 'n_estimators': 1200}"
      ]
     },
     "execution_count": 18,
     "metadata": {},
     "output_type": "execute_result"
    }
   ],
   "source": [
    "roc_auc_study = load_study(study_name='random_forest_roc_auc', storage='sqlite:///../studies/random_forest_roc_auc.db')\n",
    "roc_auc_study.best_params"
   ]
  },
  {
   "cell_type": "code",
   "execution_count": 19,
   "metadata": {},
   "outputs": [],
   "source": [
    "f1_model = RandomForestClassifier(random_state=RANDOM_SEED, n_jobs=-1, oob_score=True, **f1_study.best_params)\n",
    "roc_auc_model = RandomForestClassifier(random_state=RANDOM_SEED, n_jobs=-1, oob_score=True, **roc_auc_study.best_params)"
   ]
  },
  {
   "cell_type": "code",
   "execution_count": 20,
   "metadata": {},
   "outputs": [
    {
     "data": {
      "text/html": [
       "<div>\n",
       "<style scoped>\n",
       "    .dataframe tbody tr th:only-of-type {\n",
       "        vertical-align: middle;\n",
       "    }\n",
       "\n",
       "    .dataframe tbody tr th {\n",
       "        vertical-align: top;\n",
       "    }\n",
       "\n",
       "    .dataframe thead th {\n",
       "        text-align: right;\n",
       "    }\n",
       "</style>\n",
       "<table border=\"1\" class=\"dataframe\">\n",
       "  <thead>\n",
       "    <tr style=\"text-align: right;\">\n",
       "      <th></th>\n",
       "      <th>0.0</th>\n",
       "      <th>1.0</th>\n",
       "      <th>accuracy</th>\n",
       "      <th>macro avg</th>\n",
       "      <th>weighted avg</th>\n",
       "      <th>roc auc</th>\n",
       "      <th>oob score</th>\n",
       "    </tr>\n",
       "  </thead>\n",
       "  <tbody>\n",
       "    <tr>\n",
       "      <th>f1-score</th>\n",
       "      <td>0.824680</td>\n",
       "      <td>0.836520</td>\n",
       "      <td>0.830809</td>\n",
       "      <td>0.830600</td>\n",
       "      <td>0.830600</td>\n",
       "      <td>0.832444</td>\n",
       "      <td>0.830458</td>\n",
       "    </tr>\n",
       "    <tr>\n",
       "      <th>precision</th>\n",
       "      <td>0.855655</td>\n",
       "      <td>0.809233</td>\n",
       "      <td>0.830809</td>\n",
       "      <td>0.832444</td>\n",
       "      <td>0.832444</td>\n",
       "      <td>0.832444</td>\n",
       "      <td>0.830458</td>\n",
       "    </tr>\n",
       "    <tr>\n",
       "      <th>recall</th>\n",
       "      <td>0.795889</td>\n",
       "      <td>0.865729</td>\n",
       "      <td>0.830809</td>\n",
       "      <td>0.830809</td>\n",
       "      <td>0.830809</td>\n",
       "      <td>0.832444</td>\n",
       "      <td>0.830458</td>\n",
       "    </tr>\n",
       "    <tr>\n",
       "      <th>support</th>\n",
       "      <td>4991.400000</td>\n",
       "      <td>4991.400000</td>\n",
       "      <td>0.830809</td>\n",
       "      <td>9982.800000</td>\n",
       "      <td>9982.800000</td>\n",
       "      <td>0.832444</td>\n",
       "      <td>0.830458</td>\n",
       "    </tr>\n",
       "  </tbody>\n",
       "</table>\n",
       "</div>"
      ],
      "text/plain": [
       "                   0.0          1.0  accuracy    macro avg  weighted avg  \\\n",
       "f1-score      0.824680     0.836520  0.830809     0.830600      0.830600   \n",
       "precision     0.855655     0.809233  0.830809     0.832444      0.832444   \n",
       "recall        0.795889     0.865729  0.830809     0.830809      0.830809   \n",
       "support    4991.400000  4991.400000  0.830809  9982.800000   9982.800000   \n",
       "\n",
       "            roc auc  oob score  \n",
       "f1-score   0.832444   0.830458  \n",
       "precision  0.832444   0.830458  \n",
       "recall     0.832444   0.830458  \n",
       "support    0.832444   0.830458  "
      ]
     },
     "execution_count": 20,
     "metadata": {},
     "output_type": "execute_result"
    }
   ],
   "source": [
    "train_over_folds(f1_model, X_train, y_train, skf)"
   ]
  },
  {
   "cell_type": "code",
   "execution_count": 21,
   "metadata": {},
   "outputs": [
    {
     "data": {
      "text/html": [
       "<div>\n",
       "<style scoped>\n",
       "    .dataframe tbody tr th:only-of-type {\n",
       "        vertical-align: middle;\n",
       "    }\n",
       "\n",
       "    .dataframe tbody tr th {\n",
       "        vertical-align: top;\n",
       "    }\n",
       "\n",
       "    .dataframe thead th {\n",
       "        text-align: right;\n",
       "    }\n",
       "</style>\n",
       "<table border=\"1\" class=\"dataframe\">\n",
       "  <thead>\n",
       "    <tr style=\"text-align: right;\">\n",
       "      <th></th>\n",
       "      <th>0.0</th>\n",
       "      <th>1.0</th>\n",
       "      <th>accuracy</th>\n",
       "      <th>macro avg</th>\n",
       "      <th>weighted avg</th>\n",
       "      <th>roc auc</th>\n",
       "      <th>oob score</th>\n",
       "    </tr>\n",
       "  </thead>\n",
       "  <tbody>\n",
       "    <tr>\n",
       "      <th>f1-score</th>\n",
       "      <td>0.824842</td>\n",
       "      <td>0.836567</td>\n",
       "      <td>0.830909</td>\n",
       "      <td>0.830705</td>\n",
       "      <td>0.830705</td>\n",
       "      <td>0.832515</td>\n",
       "      <td>0.830804</td>\n",
       "    </tr>\n",
       "    <tr>\n",
       "      <th>precision</th>\n",
       "      <td>0.855537</td>\n",
       "      <td>0.809494</td>\n",
       "      <td>0.830909</td>\n",
       "      <td>0.832515</td>\n",
       "      <td>0.832515</td>\n",
       "      <td>0.832515</td>\n",
       "      <td>0.830804</td>\n",
       "    </tr>\n",
       "    <tr>\n",
       "      <th>recall</th>\n",
       "      <td>0.796290</td>\n",
       "      <td>0.865529</td>\n",
       "      <td>0.830909</td>\n",
       "      <td>0.830909</td>\n",
       "      <td>0.830909</td>\n",
       "      <td>0.832515</td>\n",
       "      <td>0.830804</td>\n",
       "    </tr>\n",
       "    <tr>\n",
       "      <th>support</th>\n",
       "      <td>4991.400000</td>\n",
       "      <td>4991.400000</td>\n",
       "      <td>0.830909</td>\n",
       "      <td>9982.800000</td>\n",
       "      <td>9982.800000</td>\n",
       "      <td>0.832515</td>\n",
       "      <td>0.830804</td>\n",
       "    </tr>\n",
       "  </tbody>\n",
       "</table>\n",
       "</div>"
      ],
      "text/plain": [
       "                   0.0          1.0  accuracy    macro avg  weighted avg  \\\n",
       "f1-score      0.824842     0.836567  0.830909     0.830705      0.830705   \n",
       "precision     0.855537     0.809494  0.830909     0.832515      0.832515   \n",
       "recall        0.796290     0.865529  0.830909     0.830909      0.830909   \n",
       "support    4991.400000  4991.400000  0.830909  9982.800000   9982.800000   \n",
       "\n",
       "            roc auc  oob score  \n",
       "f1-score   0.832515   0.830804  \n",
       "precision  0.832515   0.830804  \n",
       "recall     0.832515   0.830804  \n",
       "support    0.832515   0.830804  "
      ]
     },
     "execution_count": 21,
     "metadata": {},
     "output_type": "execute_result"
    }
   ],
   "source": [
    "train_over_folds(roc_auc_model, X_train, y_train, skf)"
   ]
  },
  {
   "cell_type": "markdown",
   "metadata": {},
   "source": [
    "Both studies result in hyperparameters that perform similarly. The ROC AUC study yields a slightly higher ROC AUC score, f1-score, and out-of-bag score, so we will choose that as our best model."
   ]
  },
  {
   "cell_type": "code",
   "execution_count": 22,
   "metadata": {},
   "outputs": [],
   "source": [
    "best_model = roc_auc_model"
   ]
  },
  {
   "cell_type": "code",
   "execution_count": 23,
   "metadata": {
    "scrolled": true
   },
   "outputs": [
    {
     "data": {
      "text/plain": [
       "RandomForestClassifier(criterion='entropy', max_features=None,\n",
       "                       min_samples_leaf=2, n_estimators=1200, n_jobs=-1,\n",
       "                       oob_score=True, random_state=0)"
      ]
     },
     "execution_count": 23,
     "metadata": {},
     "output_type": "execute_result"
    }
   ],
   "source": [
    "best_model.fit(X_train, y_train)"
   ]
  },
  {
   "cell_type": "code",
   "execution_count": 24,
   "metadata": {},
   "outputs": [
    {
     "data": {
      "text/plain": [
       "0.8457546980806988"
      ]
     },
     "execution_count": 24,
     "metadata": {},
     "output_type": "execute_result"
    }
   ],
   "source": [
    "best_model.oob_score_"
   ]
  },
  {
   "cell_type": "markdown",
   "metadata": {},
   "source": [
    "# 5. Results"
   ]
  },
  {
   "cell_type": "code",
   "execution_count": 25,
   "metadata": {},
   "outputs": [],
   "source": [
    "y_pred = best_model.predict(X_test)"
   ]
  },
  {
   "cell_type": "code",
   "execution_count": 26,
   "metadata": {},
   "outputs": [
    {
     "data": {
      "text/html": [
       "<div>\n",
       "<style scoped>\n",
       "    .dataframe tbody tr th:only-of-type {\n",
       "        vertical-align: middle;\n",
       "    }\n",
       "\n",
       "    .dataframe tbody tr th {\n",
       "        vertical-align: top;\n",
       "    }\n",
       "\n",
       "    .dataframe thead th {\n",
       "        text-align: right;\n",
       "    }\n",
       "</style>\n",
       "<table border=\"1\" class=\"dataframe\">\n",
       "  <thead>\n",
       "    <tr style=\"text-align: right;\">\n",
       "      <th></th>\n",
       "      <th>0.0</th>\n",
       "      <th>1.0</th>\n",
       "      <th>accuracy</th>\n",
       "      <th>macro avg</th>\n",
       "      <th>weighted avg</th>\n",
       "      <th>roc auc</th>\n",
       "    </tr>\n",
       "  </thead>\n",
       "  <tbody>\n",
       "    <tr>\n",
       "      <th>precision</th>\n",
       "      <td>0.813717</td>\n",
       "      <td>0.674120</td>\n",
       "      <td>0.7594</td>\n",
       "      <td>0.743919</td>\n",
       "      <td>0.761215</td>\n",
       "      <td>0.743919</td>\n",
       "    </tr>\n",
       "    <tr>\n",
       "      <th>recall</th>\n",
       "      <td>0.796762</td>\n",
       "      <td>0.697421</td>\n",
       "      <td>0.7594</td>\n",
       "      <td>0.747092</td>\n",
       "      <td>0.759400</td>\n",
       "      <td>0.743919</td>\n",
       "    </tr>\n",
       "    <tr>\n",
       "      <th>f1-score</th>\n",
       "      <td>0.805151</td>\n",
       "      <td>0.685572</td>\n",
       "      <td>0.7594</td>\n",
       "      <td>0.745362</td>\n",
       "      <td>0.760177</td>\n",
       "      <td>0.743919</td>\n",
       "    </tr>\n",
       "    <tr>\n",
       "      <th>support</th>\n",
       "      <td>6239.000000</td>\n",
       "      <td>3761.000000</td>\n",
       "      <td>0.7594</td>\n",
       "      <td>10000.000000</td>\n",
       "      <td>10000.000000</td>\n",
       "      <td>0.743919</td>\n",
       "    </tr>\n",
       "  </tbody>\n",
       "</table>\n",
       "</div>"
      ],
      "text/plain": [
       "                   0.0          1.0  accuracy     macro avg  weighted avg  \\\n",
       "precision     0.813717     0.674120    0.7594      0.743919      0.761215   \n",
       "recall        0.796762     0.697421    0.7594      0.747092      0.759400   \n",
       "f1-score      0.805151     0.685572    0.7594      0.745362      0.760177   \n",
       "support    6239.000000  3761.000000    0.7594  10000.000000  10000.000000   \n",
       "\n",
       "            roc auc  \n",
       "precision  0.743919  \n",
       "recall     0.743919  \n",
       "f1-score   0.743919  \n",
       "support    0.743919  "
      ]
     },
     "execution_count": 26,
     "metadata": {},
     "output_type": "execute_result"
    }
   ],
   "source": [
    "roc_auc = roc_auc_score(y_pred, y_test)\n",
    "report = pd.DataFrame(classification_report(y_test, y_pred, output_dict=True))\n",
    "report['roc auc'] = roc_auc\n",
    "report"
   ]
  },
  {
   "cell_type": "code",
   "execution_count": 27,
   "metadata": {},
   "outputs": [
    {
     "data": {
      "image/png": "[encoded data removed]",
      "text/plain": [
       "<Figure size 432x288 with 2 Axes>"
      ]
     },
     "metadata": {},
     "output_type": "display_data"
    }
   ],
   "source": [
    "plot_confusion_matrix(best_model, X_test, y_test, display_labels=['Non-active', 'Active'], normalize='true', cmap=plt.cm.Blues)\n",
    "plt.grid(False)"
   ]
  },
  {
   "cell_type": "code",
   "execution_count": 28,
   "metadata": {},
   "outputs": [
    {
     "data": {
      "image/png": "[encoded data removed]",
      "text/plain": [
       "<Figure size 504x504 with 1 Axes>"
      ]
     },
     "metadata": {},
     "output_type": "display_data"
    }
   ],
   "source": [
    "importance = best_model.feature_importances_\n",
    "plot_feature_importance(X_train.columns, importance)"
   ]
  },
  {
   "cell_type": "markdown",
   "metadata": {},
   "source": [
    "We can observe a prediction path for a sample observation:"
   ]
  },
  {
   "cell_type": "code",
   "execution_count": 29,
   "metadata": {},
   "outputs": [
    {
     "name": "stderr",
     "output_type": "stream",
     "text": [
      "/home/littleendian/miniconda3/lib/python3.7/site-packages/pandas/io/formats/format.py:1429: FutureWarning: Index.ravel returning ndarray is deprecated; in a future version this will return a view on self.\n",
      "  for val, m in zip(values.ravel(), mask.ravel())\n"
     ]
    },
    {
     "data": {
      "text/plain": [
       "11203    1.0\n",
       "29901    0.0\n",
       "7885     0.0\n",
       "18170    0.0\n",
       "3219     1.0\n",
       "        ... \n",
       "47136    0.0\n",
       "27961    0.0\n",
       "6525     0.0\n",
       "7041     1.0\n",
       "25583    0.0\n",
       "Name: is_active, Length: 7594, dtype: category\n",
       "Categories (2, float64): [0.0, 1.0]"
      ]
     },
     "execution_count": 29,
     "metadata": {},
     "output_type": "execute_result"
    }
   ],
   "source": [
    "predictions = pd.Series(y_pred, index=y_test.index)\n",
    "correct_predictions = y_test[y_test == predictions]\n",
    "correct_predictions"
   ]
  },
  {
   "cell_type": "code",
   "execution_count": 30,
   "metadata": {},
   "outputs": [],
   "source": [
    "instance_indices = correct_predictions.head(1).index"
   ]
  },
  {
   "cell_type": "code",
   "execution_count": 31,
   "metadata": {},
   "outputs": [
    {
     "data": {
      "text/plain": [
       "array([[ 0.        ,  0.        ,  0.        ,  1.        ,  0.71276997,\n",
       "        -0.75674705,  1.5597401 ,  0.11004853,  0.35055075,  0.25020764,\n",
       "        -1.28148765]])"
      ]
     },
     "execution_count": 31,
     "metadata": {},
     "output_type": "execute_result"
    }
   ],
   "source": [
    "instances = X_test.loc[instance_indices]\n",
    "instances.values"
   ]
  },
  {
   "cell_type": "code",
   "execution_count": 32,
   "metadata": {},
   "outputs": [
    {
     "data": {
      "text/plain": [
       "array([0.63805556])"
      ]
     },
     "execution_count": 32,
     "metadata": {},
     "output_type": "execute_result"
    }
   ],
   "source": [
    "best_model.predict_proba(instances)[:, 1]"
   ]
  },
  {
   "cell_type": "code",
   "execution_count": 33,
   "metadata": {},
   "outputs": [],
   "source": [
    "prediction, bias, contributions = ti.predict(best_model, instances.values)"
   ]
  },
  {
   "cell_type": "code",
   "execution_count": 34,
   "metadata": {},
   "outputs": [
    {
     "name": "stdout",
     "output_type": "stream",
     "text": [
      "Prediction [[0.36194444 0.63805556]]\n",
      "Bias [[0.50000917 0.49999083]]\n",
      "Feature contributions:\n",
      "city_King's Landing [ 0.06209348 -0.06209348]\n",
      "city_Winterfell [ 0.03151648 -0.03151648]\n",
      "ultimate_black_user_True [ 0.07423849 -0.07423849]\n",
      "phone_iPhone [-0.05428378  0.05428378]\n",
      "trips_in_first_30_days [-0.00804512  0.00804512]\n",
      "avg_rating_of_driver [-0.03249278  0.03249278]\n",
      "surge_pct [ 0.04352572 -0.04352572]\n",
      "weekday_pct [ 0.00936528 -0.00936528]\n",
      "avg_dist [ 0.00848613 -0.00848613]\n",
      "avg_rating_by_driver [-0.28769268  0.28769268]\n",
      "signup_day [ 0.01522407 -0.01522407]\n"
     ]
    }
   ],
   "source": [
    "print(f'Prediction {prediction}')\n",
    "print(f'Bias {bias}')\n",
    "print('Feature contributions:')\n",
    "for c, feature in zip(contributions[0], X_test.columns):\n",
    "    print(feature, c)"
   ]
  },
  {
   "cell_type": "code",
   "execution_count": 36,
   "metadata": {},
   "outputs": [
    {
     "data": {
      "image/png": "[encoded data removed]",
      "text/plain": [
       "<Figure size 432x288 with 1 Axes>"
      ]
     },
     "metadata": {},
     "output_type": "display_data"
    }
   ],
   "source": [
    "waterfall_chart.plot(X_test.columns, contributions[0, :, 1], rotation_value=90, threshold=0.1, formatting='{:,.3f}')\n",
    "plt.title('Contributions of features to predict correctly classified positive observation')\n",
    "plt.tight_layout()"
   ]
  },
  {
   "cell_type": "markdown",
   "metadata": {},
   "source": [
    "We see that for this sample prediction path, average rating by driver was integral in classifying this observation as active and it is by far the strongest contribution, which aligns with our feature importance findings."
   ]
  },
  {
   "cell_type": "markdown",
   "metadata": {},
   "source": [
    "# 6. Conclusion\n",
    "\n",
    "It's uncertain that my model is valid because there exist concerns about the data on which it had been trained.\n",
    "\n",
    "The data only ranges 6 months, where more than 99% of the observations have not yet reached an account age of 6 months (based on the difference between last trip and sign-up dates).\n",
    "\n",
    "The aggregate metrics (avg_surge, avg_rating_by_driver, avg_rating_of_driver, avg_dist, etc.), I assume, are based on the entire 6-month sample of data. In a practical setting, where we are most interested in early predictors of 6-month retention, we would not have a full 6-months-worth of data. A better approach could be to construct a sample dataset of only 1-3 months of user metrics and provide a target label indicating whether or not they were retained after 6 months. A model would then be able to learn  to detect early predictors without being biased by data they would otherwise not see in a real use case.\n",
    "\n",
    "To improve long-term retention, Ultimate should initially explore the key predictors for our best-performing model:\n",
    "- Average distance\n",
    "- Average rating by driver\n",
    "- Signup day\n",
    "- Weekday percentage\n",
    "- City - King's Landing \n",
    "\n",
    "As mentioned earlier, re-training this model on a sample dataset that isn't exposed to 6-month data would better suit the problem they are trying to solve."
   ]
  }
 ],
 "metadata": {
  "kernelspec": {
   "display_name": "Python 3 (ipykernel)",
   "language": "python",
   "name": "python3"
  },
  "language_info": {
   "codemirror_mode": {
    "name": "ipython",
    "version": 3
   },
   "file_extension": ".py",
   "mimetype": "text/x-python",
   "name": "python",
   "nbconvert_exporter": "python",
   "pygments_lexer": "ipython3",
   "version": "3.7.6"
  }
 },
 "nbformat": 4,
 "nbformat_minor": 4
}
